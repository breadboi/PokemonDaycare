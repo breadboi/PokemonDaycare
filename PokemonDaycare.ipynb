{
  "nbformat": 4,
  "nbformat_minor": 0,
  "metadata": {
    "colab": {
      "name": "PokemonDaycare",
      "provenance": [],
      "collapsed_sections": [],
      "authorship_tag": "ABX9TyMQU+ilQemnZ1NZxdjVzaOi"
    },
    "kernelspec": {
      "name": "python3",
      "display_name": "Python 3"
    },
    "language_info": {
      "name": "python"
    }
  },
  "cells": [
    {
      "cell_type": "markdown",
      "source": [
        "Required Imports"
      ],
      "metadata": {
        "id": "wIBgWjUFQ0-n"
      }
    },
    {
      "cell_type": "code",
      "source": [
        "# Imports\n",
        "import requests\n",
        "import time\n",
        "import json\n",
        "from datetime import datetime\n",
        "from IPython.display import clear_output\n",
        "from IPython.display import Image\n",
        "from IPython.core.interactiveshell import InteractiveShell"
      ],
      "metadata": {
        "id": "YhkwlIr2RoGF"
      },
      "execution_count": 346,
      "outputs": []
    },
    {
      "cell_type": "markdown",
      "source": [
        "Utility Code unrelated to Day Care"
      ],
      "metadata": {
        "id": "Y0ylnDsmdceX"
      }
    },
    {
      "cell_type": "code",
      "source": [
        "# Utility to get current time\n",
        "def GetTimeNow():\n",
        "  now = datetime.now()\n",
        "\n",
        "  currentTime = now.strftime(\"%H:%M:%S\")\n",
        "\n",
        "  return currentTime"
      ],
      "metadata": {
        "id": "Yx7iJio2dVus"
      },
      "execution_count": 347,
      "outputs": []
    },
    {
      "cell_type": "markdown",
      "source": [
        "Reusable Code"
      ],
      "metadata": {
        "id": "0pJVaG8odgWv"
      }
    },
    {
      "cell_type": "code",
      "source": [
        "# Create our Session\n",
        "requestSession = requests.Session()"
      ],
      "metadata": {
        "id": "9CNvcybQXHOM"
      },
      "execution_count": 348,
      "outputs": []
    },
    {
      "cell_type": "code",
      "execution_count": 349,
      "metadata": {
        "id": "45qUCrU6Q0U3"
      },
      "outputs": [],
      "source": [
        "# Login to PokePals and return a session to use\n",
        "def Login(session):\n",
        "\n",
        "  url = \"https://mheinzinger.com/login\"\n",
        "\n",
        "  payload = \"{\\n\\t\\\"email\\\": \\\"lahurova.etalodaf@gotgel.org\\\",\\n\\t\\\"password\\\": \\\"RfK3U6#t@*U6qLv\\\"\\n}\"\n",
        "  headers = {\n",
        "      'Content-Type': \"application/json\"\n",
        "      }\n",
        "\n",
        "  response = session.request(\"POST\", url, data=payload, headers=headers)\n",
        "\n",
        "  return session"
      ]
    },
    {
      "cell_type": "code",
      "source": [
        "# Get Pokemon Status\n",
        "def PokemonStatus(session):\n",
        "  url = \"https://mheinzinger.com/pokemon\"\n",
        "\n",
        "  payload = \"\"\n",
        "\n",
        "  response = requestSession.request(\"GET\", url, data=payload)\n",
        "\n",
        "  # print(response.text)\n",
        "  return response.content"
      ],
      "metadata": {
        "id": "TVXgNJhAR7df"
      },
      "execution_count": 350,
      "outputs": []
    },
    {
      "cell_type": "code",
      "source": [
        "# Feed Pokemon\n",
        "def FeedPokemon(session):\n",
        "  url = \"https://mheinzinger.com/pokemon/7/last_fed\"\n",
        "\n",
        "  payload = \"{\\n\\t\\\"current_happiness\\\": 10,\\n\\t\\\"current_hunger\\\": 10\\n}\"\n",
        "\n",
        "  response = requests.request(\"PUT\", url, data=payload)\n",
        "\n",
        "  return response.content"
      ],
      "metadata": {
        "id": "o96VZr1NWL2W"
      },
      "execution_count": 351,
      "outputs": []
    },
    {
      "cell_type": "code",
      "source": [
        "# Play with Pokemon\n",
        "def PlayWithPokemon(session):\n",
        "\n",
        "  url = \"https://mheinzinger.com/pokemon/7/play\"\n",
        "\n",
        "  payload = \"{\\n\\t\\\"current_happiness\\\": 20,\\n\\t\\\"correct\\\": \\\"Correct\\\"\\n}\"\n",
        "\n",
        "\n",
        "  response = requests.request(\"PUT\", url, data=payload)\n",
        "\n",
        "  return response.content"
      ],
      "metadata": {
        "id": "sMKpDaDLalGh"
      },
      "execution_count": 352,
      "outputs": []
    },
    {
      "cell_type": "code",
      "source": [
        "def UpdateLastFed(session):\n",
        "\n",
        "  url = \"https://mheinzinger.com/pokemon/7/last_fed\"\n",
        "\n",
        "  payload = \"{\\n\\t\\\"current_happiness\\\": 10,\\n\\t\\\"current_hunger\\\": 10\\n}\"\n",
        "\n",
        "  response = requests.request(\"PUT\", url, data=payload)\n"
      ],
      "metadata": {
        "id": "8x9rll1R2XUF"
      },
      "execution_count": 353,
      "outputs": []
    },
    {
      "cell_type": "code",
      "source": [
        "def CareForPokemon(session):\n",
        "  currentStatus = PokemonStatus(session)\n",
        "\n",
        "  jsonStatus = json.loads(currentStatus)\n",
        "\n",
        "  print(\"----Current Pokemon Status----\")\n",
        "  print(json.dumps(jsonStatus, indent=4))\n",
        "\n",
        "  if (jsonStatus[\"happiness\"] < 10):\n",
        "    print(\"Playing with Pokemon...\")\n",
        "    PlayWithPokemon(session)\n",
        "  if (jsonStatus[\"hunger\"] < 10):\n",
        "    print(\"Feeding Pokemon...\")\n",
        "    FeedPokemon(session)"
      ],
      "metadata": {
        "id": "e1spm50nYLB4"
      },
      "execution_count": 354,
      "outputs": []
    },
    {
      "cell_type": "code",
      "source": [
        "def OutputHeader():\n",
        "  print(\"\"\"\n",
        "████████╗██╗  ██╗███████╗    ██████╗  █████╗ ██╗   ██╗ ██████╗ █████╗ ██████╗ ███████╗\n",
        "╚══██╔══╝██║  ██║██╔════╝    ██╔══██╗██╔══██╗╚██╗ ██╔╝██╔════╝██╔══██╗██╔══██╗██╔════╝\n",
        "   ██║   ███████║█████╗      ██║  ██║███████║ ╚████╔╝ ██║     ███████║██████╔╝█████╗  \n",
        "   ██║   ██╔══██║██╔══╝      ██║  ██║██╔══██║  ╚██╔╝  ██║     ██╔══██║██╔══██╗██╔══╝  \n",
        "   ██║   ██║  ██║███████╗    ██████╔╝██║  ██║   ██║   ╚██████╗██║  ██║██║  ██║███████╗\n",
        "   ╚═╝   ╚═╝  ╚═╝╚══════╝    ╚═════╝ ╚═╝  ╚═╝   ╚═╝    ╚═════╝╚═╝  ╚═╝╚═╝  ╚═╝╚══════╝\n",
        "                                                                                      \n",
        "  \"\"\")"
      ],
      "metadata": {
        "id": "JUkSiVIPgTup"
      },
      "execution_count": 355,
      "outputs": []
    },
    {
      "cell_type": "code",
      "source": [
        "def GetSpriteURI(session):\n",
        "  currentStatus = PokemonStatus(session)\n",
        "\n",
        "  jsonStatus = json.loads(currentStatus)\n",
        "  \n",
        "  pokemonName = jsonStatus[\"species\"]\n",
        "  pokemonUri = f\"https://pokeapi.co/api/v2/pokemon/{pokemonName}\"\n",
        "  pokeAPIResponse = requests.request(\"GET\", pokemonUri)\n",
        "  dexNumber = json.loads(pokeAPIResponse.content)[\"id\"]\n",
        "  dexNumberAdjusted = str(dexNumber).zfill(3)\n",
        "\n",
        "  imageURI = f\"https://www.pokencyclopedia.info/sprites/3ds/ani_6/3ani__{dexNumberAdjusted}__xy.gif\"\n",
        "  \n",
        "  return imageURI"
      ],
      "metadata": {
        "id": "x7CYPwuAnxpJ"
      },
      "execution_count": 356,
      "outputs": []
    },
    {
      "cell_type": "markdown",
      "source": [
        "Entrypoint"
      ],
      "metadata": {
        "id": "a3i4sml8zzjW"
      }
    },
    {
      "cell_type": "code",
      "source": [
        "InteractiveShell.ast_node_interactivity = 'all'"
      ],
      "metadata": {
        "id": "FRt3Ma_i0gDh"
      },
      "execution_count": 357,
      "outputs": []
    },
    {
      "cell_type": "code",
      "source": [
        "requestSession = Login(requestSession)"
      ],
      "metadata": {
        "id": "KrQpBCKqzyPQ"
      },
      "execution_count": 358,
      "outputs": []
    },
    {
      "cell_type": "code",
      "source": [
        "while (True):\n",
        "  print(f\"***{GetTimeNow()}***\")\n",
        "  OutputHeader()\n",
        "  Image(url=GetSpriteURI(requestSession))\n",
        "  CareForPokemon(requestSession)\n",
        "  UpdateLastFed(requestSession)\n",
        "  time.sleep(100)\n",
        "  clear_output()\n"
      ],
      "metadata": {
        "colab": {
          "base_uri": "https://localhost:8080/",
          "height": 435
        },
        "id": "_ZRtsOXVXiwT",
        "outputId": "e5e97d91-ee75-45e1-f3f1-1d40f4a447df"
      },
      "execution_count": null,
      "outputs": [
        {
          "output_type": "stream",
          "name": "stdout",
          "text": [
            "***22:59:11***\n",
            "\n",
            "████████╗██╗  ██╗███████╗    ██████╗  █████╗ ██╗   ██╗ ██████╗ █████╗ ██████╗ ███████╗\n",
            "╚══██╔══╝██║  ██║██╔════╝    ██╔══██╗██╔══██╗╚██╗ ██╔╝██╔════╝██╔══██╗██╔══██╗██╔════╝\n",
            "   ██║   ███████║█████╗      ██║  ██║███████║ ╚████╔╝ ██║     ███████║██████╔╝█████╗  \n",
            "   ██║   ██╔══██║██╔══╝      ██║  ██║██╔══██║  ╚██╔╝  ██║     ██╔══██║██╔══██╗██╔══╝  \n",
            "   ██║   ██║  ██║███████╗    ██████╔╝██║  ██║   ██║   ╚██████╗██║  ██║██║  ██║███████╗\n",
            "   ╚═╝   ╚═╝  ╚═╝╚══════╝    ╚═════╝ ╚═╝  ╚═╝   ╚═╝    ╚═════╝╚═╝  ╚═╝╚═╝  ╚═╝╚══════╝\n",
            "                                                                                      \n",
            "  \n"
          ]
        },
        {
          "output_type": "execute_result",
          "data": {
            "text/html": [
              "<img src=\"https://www.pokencyclopedia.info/sprites/3ds/ani_6/3ani__001__xy.gif\"/>"
            ],
            "text/plain": [
              "<IPython.core.display.Image object>"
            ]
          },
          "metadata": {},
          "execution_count": 359
        },
        {
          "output_type": "stream",
          "name": "stdout",
          "text": [
            "----Current Pokemon Status----\n",
            "{\n",
            "    \"id\": 7,\n",
            "    \"species\": \"bulbasaur\",\n",
            "    \"happiness\": 10,\n",
            "    \"hunger\": 10,\n",
            "    \"last_fed\": \"2022-08-16T22:57:31.430Z\",\n",
            "    \"cry\": \"media/cries/pokemon1.wav\",\n",
            "    \"sprite\": \"https://raw.githubusercontent.com/PokeAPI/sprites/master/sprites/pokemon/1.png\",\n",
            "    \"trainer\": 7\n",
            "}\n"
          ]
        }
      ]
    }
  ]
}